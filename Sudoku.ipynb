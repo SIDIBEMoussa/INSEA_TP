{
  "nbformat": 4,
  "nbformat_minor": 0,
  "metadata": {
    "colab": {
      "name": "Sudoku.ipynb",
      "provenance": [],
      "authorship_tag": "ABX9TyN2Pb+d5y/b1ve3QB5sG42K",
      "include_colab_link": true
    },
    "kernelspec": {
      "name": "python3",
      "display_name": "Python 3"
    },
    "language_info": {
      "name": "python"
    }
  },
  "cells": [
    {
      "cell_type": "markdown",
      "metadata": {
        "id": "view-in-github",
        "colab_type": "text"
      },
      "source": [
        "<a href=\"https://colab.research.google.com/github/SIDIBEMoussa/INSEA_TP/blob/main/Sudoku.ipynb\" target=\"_parent\"><img src=\"https://colab.research.google.com/assets/colab-badge.svg\" alt=\"Open In Colab\"/></a>"
      ]
    },
    {
      "cell_type": "code",
      "metadata": {
        "colab": {
          "base_uri": "https://localhost:8080/"
        },
        "id": "uzAHbuGdWP7w",
        "outputId": "009f0e62-bfbd-4d84-838c-7275e1b03dde"
      },
      "source": [
        "pip install python-constraint"
      ],
      "execution_count": 1,
      "outputs": [
        {
          "output_type": "stream",
          "text": [
            "Collecting python-constraint\n",
            "  Downloading https://files.pythonhosted.org/packages/37/8b/5f1bc2734ca611943e1d6733ee244238679f6410a10cd45ede55a61a8402/python-constraint-1.4.0.tar.bz2\n",
            "Building wheels for collected packages: python-constraint\n",
            "  Building wheel for python-constraint (setup.py) ... \u001b[?25l\u001b[?25hdone\n",
            "  Created wheel for python-constraint: filename=python_constraint-1.4.0-py2.py3-none-any.whl size=24079 sha256=4ae6e8c50b10d7791ea94debce4bbae7f113282d9f3399ba6799b3ed7dd35136\n",
            "  Stored in directory: /root/.cache/pip/wheels/34/31/15/7b070b25d0a549d20ce2e9fe6d727471c2c61ef904720fd40c\n",
            "Successfully built python-constraint\n",
            "Installing collected packages: python-constraint\n",
            "Successfully installed python-constraint-1.4.0\n"
          ],
          "name": "stdout"
        }
      ]
    },
    {
      "cell_type": "code",
      "metadata": {
        "id": "4cgUlUIFWwxU"
      },
      "source": [
        "import constraint as c"
      ],
      "execution_count": 11,
      "outputs": []
    },
    {
      "cell_type": "code",
      "metadata": {
        "id": "HgSY5q1AW8Rg"
      },
      "source": [
        "problem=Problem()"
      ],
      "execution_count": 12,
      "outputs": []
    },
    {
      "cell_type": "code",
      "metadata": {
        "id": "fNTG5kCEjkd_"
      },
      "source": [
        "import numpy as np"
      ],
      "execution_count": 30,
      "outputs": []
    },
    {
      "cell_type": "code",
      "metadata": {
        "id": "M837-ny_cb3X"
      },
      "source": [
        "variables=np.zeros((9,9),dtype=str).astype(\"<U3\")\n",
        "for j in range(nbre_var):\n",
        "    for i in range(nbre_var):\n",
        "        variables[j][i]=str(\"x\"+str(j)+str(i))"
      ],
      "execution_count": 55,
      "outputs": []
    },
    {
      "cell_type": "code",
      "metadata": {
        "colab": {
          "base_uri": "https://localhost:8080/"
        },
        "id": "dtZYR73lnE3g",
        "outputId": "cc6ed251-4548-4267-e9b7-96f186d75371"
      },
      "source": [
        "variables"
      ],
      "execution_count": 56,
      "outputs": [
        {
          "output_type": "execute_result",
          "data": {
            "text/plain": [
              "array([['x00', 'x01', 'x02', 'x03', 'x04', 'x05', 'x06', 'x07', 'x08'],\n",
              "       ['x10', 'x11', 'x12', 'x13', 'x14', 'x15', 'x16', 'x17', 'x18'],\n",
              "       ['x20', 'x21', 'x22', 'x23', 'x24', 'x25', 'x26', 'x27', 'x28'],\n",
              "       ['x30', 'x31', 'x32', 'x33', 'x34', 'x35', 'x36', 'x37', 'x38'],\n",
              "       ['x40', 'x41', 'x42', 'x43', 'x44', 'x45', 'x46', 'x47', 'x48'],\n",
              "       ['x50', 'x51', 'x52', 'x53', 'x54', 'x55', 'x56', 'x57', 'x58'],\n",
              "       ['x60', 'x61', 'x62', 'x63', 'x64', 'x65', 'x66', 'x67', 'x68'],\n",
              "       ['x70', 'x71', 'x72', 'x73', 'x74', 'x75', 'x76', 'x77', 'x78'],\n",
              "       ['x80', 'x81', 'x82', 'x83', 'x84', 'x85', 'x86', 'x87', 'x88']],\n",
              "      dtype='<U3')"
            ]
          },
          "metadata": {
            "tags": []
          },
          "execution_count": 56
        }
      ]
    },
    {
      "cell_type": "code",
      "metadata": {
        "colab": {
          "base_uri": "https://localhost:8080/"
        },
        "id": "XMFRX-SvrN7U",
        "outputId": "0b2a37f0-2b81-4dbc-85a5-94d199216da4"
      },
      "source": [
        "list(variables)"
      ],
      "execution_count": 60,
      "outputs": [
        {
          "output_type": "execute_result",
          "data": {
            "text/plain": [
              "[array(['x00', 'x01', 'x02', 'x03', 'x04', 'x05', 'x06', 'x07', 'x08'],\n",
              "       dtype='<U3'),\n",
              " array(['x10', 'x11', 'x12', 'x13', 'x14', 'x15', 'x16', 'x17', 'x18'],\n",
              "       dtype='<U3'),\n",
              " array(['x20', 'x21', 'x22', 'x23', 'x24', 'x25', 'x26', 'x27', 'x28'],\n",
              "       dtype='<U3'),\n",
              " array(['x30', 'x31', 'x32', 'x33', 'x34', 'x35', 'x36', 'x37', 'x38'],\n",
              "       dtype='<U3'),\n",
              " array(['x40', 'x41', 'x42', 'x43', 'x44', 'x45', 'x46', 'x47', 'x48'],\n",
              "       dtype='<U3'),\n",
              " array(['x50', 'x51', 'x52', 'x53', 'x54', 'x55', 'x56', 'x57', 'x58'],\n",
              "       dtype='<U3'),\n",
              " array(['x60', 'x61', 'x62', 'x63', 'x64', 'x65', 'x66', 'x67', 'x68'],\n",
              "       dtype='<U3'),\n",
              " array(['x70', 'x71', 'x72', 'x73', 'x74', 'x75', 'x76', 'x77', 'x78'],\n",
              "       dtype='<U3'),\n",
              " array(['x80', 'x81', 'x82', 'x83', 'x84', 'x85', 'x86', 'x87', 'x88'],\n",
              "       dtype='<U3')]"
            ]
          },
          "metadata": {
            "tags": []
          },
          "execution_count": 60
        }
      ]
    },
    {
      "cell_type": "code",
      "metadata": {
        "colab": {
          "base_uri": "https://localhost:8080/",
          "height": 307
        },
        "id": "aelmOYbEm0ky",
        "outputId": "9632086b-b258-41c8-eed7-2febafda9b10"
      },
      "source": [
        "problem.addVariables(list(variables),[1,2,3,4,5,6,7,8,9])"
      ],
      "execution_count": 59,
      "outputs": [
        {
          "output_type": "error",
          "ename": "TypeError",
          "evalue": "ignored",
          "traceback": [
            "\u001b[0;31m---------------------------------------------------------------------------\u001b[0m",
            "\u001b[0;31mTypeError\u001b[0m                                 Traceback (most recent call last)",
            "\u001b[0;32m<ipython-input-59-363c793e8fce>\u001b[0m in \u001b[0;36m<module>\u001b[0;34m()\u001b[0m\n\u001b[0;32m----> 1\u001b[0;31m \u001b[0mproblem\u001b[0m\u001b[0;34m.\u001b[0m\u001b[0maddVariables\u001b[0m\u001b[0;34m(\u001b[0m\u001b[0mlist\u001b[0m\u001b[0;34m(\u001b[0m\u001b[0mvariables\u001b[0m\u001b[0;34m)\u001b[0m\u001b[0;34m,\u001b[0m\u001b[0;34m[\u001b[0m\u001b[0;36m1\u001b[0m\u001b[0;34m,\u001b[0m\u001b[0;36m2\u001b[0m\u001b[0;34m,\u001b[0m\u001b[0;36m3\u001b[0m\u001b[0;34m,\u001b[0m\u001b[0;36m4\u001b[0m\u001b[0;34m,\u001b[0m\u001b[0;36m5\u001b[0m\u001b[0;34m,\u001b[0m\u001b[0;36m6\u001b[0m\u001b[0;34m,\u001b[0m\u001b[0;36m7\u001b[0m\u001b[0;34m,\u001b[0m\u001b[0;36m8\u001b[0m\u001b[0;34m,\u001b[0m\u001b[0;36m9\u001b[0m\u001b[0;34m]\u001b[0m\u001b[0;34m)\u001b[0m\u001b[0;34m\u001b[0m\u001b[0;34m\u001b[0m\u001b[0m\n\u001b[0m",
            "\u001b[0;32m/usr/local/lib/python3.7/dist-packages/constraint/__init__.py\u001b[0m in \u001b[0;36maddVariables\u001b[0;34m(self, variables, domain)\u001b[0m\n\u001b[1;32m    199\u001b[0m         \"\"\"\n\u001b[1;32m    200\u001b[0m         \u001b[0;32mfor\u001b[0m \u001b[0mvariable\u001b[0m \u001b[0;32min\u001b[0m \u001b[0mvariables\u001b[0m\u001b[0;34m:\u001b[0m\u001b[0;34m\u001b[0m\u001b[0;34m\u001b[0m\u001b[0m\n\u001b[0;32m--> 201\u001b[0;31m             \u001b[0mself\u001b[0m\u001b[0;34m.\u001b[0m\u001b[0maddVariable\u001b[0m\u001b[0;34m(\u001b[0m\u001b[0mvariable\u001b[0m\u001b[0;34m,\u001b[0m \u001b[0mdomain\u001b[0m\u001b[0;34m)\u001b[0m\u001b[0;34m\u001b[0m\u001b[0;34m\u001b[0m\u001b[0m\n\u001b[0m\u001b[1;32m    202\u001b[0m \u001b[0;34m\u001b[0m\u001b[0m\n\u001b[1;32m    203\u001b[0m     \u001b[0;32mdef\u001b[0m \u001b[0maddConstraint\u001b[0m\u001b[0;34m(\u001b[0m\u001b[0mself\u001b[0m\u001b[0;34m,\u001b[0m \u001b[0mconstraint\u001b[0m\u001b[0;34m,\u001b[0m \u001b[0mvariables\u001b[0m\u001b[0;34m=\u001b[0m\u001b[0;32mNone\u001b[0m\u001b[0;34m)\u001b[0m\u001b[0;34m:\u001b[0m\u001b[0;34m\u001b[0m\u001b[0;34m\u001b[0m\u001b[0m\n",
            "\u001b[0;32m/usr/local/lib/python3.7/dist-packages/constraint/__init__.py\u001b[0m in \u001b[0;36maddVariable\u001b[0;34m(self, variable, domain)\u001b[0m\n\u001b[1;32m    163\u001b[0m         \u001b[0;34m@\u001b[0m\u001b[0mtype\u001b[0m  \u001b[0mdomain\u001b[0m\u001b[0;34m:\u001b[0m \u001b[0mlist\u001b[0m\u001b[0;34m,\u001b[0m \u001b[0mtuple\u001b[0m\u001b[0;34m,\u001b[0m \u001b[0;32mor\u001b[0m \u001b[0minstance\u001b[0m \u001b[0mof\u001b[0m \u001b[0mC\u001b[0m\u001b[0;34m{\u001b[0m\u001b[0mDomain\u001b[0m\u001b[0;34m}\u001b[0m\u001b[0;34m\u001b[0m\u001b[0;34m\u001b[0m\u001b[0m\n\u001b[1;32m    164\u001b[0m         \"\"\"\n\u001b[0;32m--> 165\u001b[0;31m         \u001b[0;32mif\u001b[0m \u001b[0mvariable\u001b[0m \u001b[0;32min\u001b[0m \u001b[0mself\u001b[0m\u001b[0;34m.\u001b[0m\u001b[0m_variables\u001b[0m\u001b[0;34m:\u001b[0m\u001b[0;34m\u001b[0m\u001b[0;34m\u001b[0m\u001b[0m\n\u001b[0m\u001b[1;32m    166\u001b[0m             \u001b[0mmsg\u001b[0m \u001b[0;34m=\u001b[0m \u001b[0;34m\"Tried to insert duplicated variable %s\"\u001b[0m \u001b[0;34m%\u001b[0m \u001b[0mrepr\u001b[0m\u001b[0;34m(\u001b[0m\u001b[0mvariable\u001b[0m\u001b[0;34m)\u001b[0m\u001b[0;34m\u001b[0m\u001b[0;34m\u001b[0m\u001b[0m\n\u001b[1;32m    167\u001b[0m             \u001b[0;32mraise\u001b[0m \u001b[0mValueError\u001b[0m\u001b[0;34m(\u001b[0m\u001b[0mmsg\u001b[0m\u001b[0;34m)\u001b[0m\u001b[0;34m\u001b[0m\u001b[0;34m\u001b[0m\u001b[0m\n",
            "\u001b[0;31mTypeError\u001b[0m: unhashable type: 'numpy.ndarray'"
          ]
        }
      ]
    },
    {
      "cell_type": "code",
      "metadata": {
        "id": "UUADmcffgiP6"
      },
      "source": [
        "problem.addVariables(variables,range(1,10))"
      ],
      "execution_count": 27,
      "outputs": []
    },
    {
      "cell_type": "code",
      "metadata": {
        "id": "0K51tDlmhSPj"
      },
      "source": [
        "def contraint_line():\n",
        "        "
      ],
      "execution_count": null,
      "outputs": []
    }
  ]
}